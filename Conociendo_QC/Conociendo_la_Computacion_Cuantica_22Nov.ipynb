{
  "cells": [
    {
      "cell_type": "markdown",
      "metadata": {
        "id": "OvrF8jMlL_6E"
      },
      "source": [
        "*Mini Workshop on High Performance Computing in Science and Engineering*\n",
        "\n",
        "# Taller: **Conociendo la computación cuántica**\n",
        "\n"
      ]
    },
    {
      "cell_type": "markdown",
      "metadata": {
        "id": "-LW1JYnnMUsb"
      },
      "source": [
        "## Conociendo al Qubit\n",
        "\n",
        "El **qubit** es la *unidad fundamental de los ordenadores cuánticos*. Es con ella que se puede hacer los cáluclos e interpretación de la información en los cálculos.\n",
        "\n",
        "El qubit presenta las cuálidades de poderse comportar como una onda o como una partícula."
      ]
    },
    {
      "cell_type": "markdown",
      "metadata": {
        "id": "ZQtkDeQXM7Av"
      },
      "source": [
        "### El qubit como una onda\n",
        "\n",
        "A continuación puede ingresar al siguiente link donde podrás encontrar un simulador de del comportamiento y experimentación quántico.\n",
        "\n",
        "[Virtual lab of Quantum Flytrap](https://lab.quantumflytrap.com/)\n",
        "\n",
        "![texto alternativo](https://drive.google.com/uc?id=1iiy2AT--OYs63QHXTdau08pKhDJy9_B_)\n",
        "\n",
        "Te proponemos los siguientes casos de experimentación:\n",
        "\n",
        "\n",
        "1.   Detección de un fotón\n",
        "2.   Dividir la probabilidad de detección\n",
        "3.   Dividir la señal y recontruirla.\n",
        "\n",
        "*Solución:*\n",
        "\n",
        "![texto alternativo](https://drive.google.com/uc?id=1wBTOE2gG8lmwnoQ2hp-ki6OQoiXtQ-Ti)"
      ]
    },
    {
      "cell_type": "markdown",
      "metadata": {
        "id": "3RaI0Ra5SSH2"
      },
      "source": [
        "### Representación del Qubit como Ket\n",
        "\n",
        "Otra forma en la que es posible representar al qubits de forma de *ket* la cuál también es conocida como la *Notación de Dirac*.\n",
        "\n",
        "A continuación, experimentaremos con ella:"
      ]
    },
    {
      "cell_type": "code",
      "execution_count": null,
      "metadata": {
        "id": "vyNzINZySv4y"
      },
      "outputs": [],
      "source": [
        "#INSTALACIÓN DE LIBRERÍAS\n",
        "\n",
        "!pip install qiskit\n",
        "\n",
        "# Importamos las librerias estandar de Qiskit \n",
        "from qiskit import QuantumCircuit  #Importamos la función de QuantumCircuit para crear nuestros circuitos cuánticos\n",
        "\n",
        "#Usaremos estas funciones para correr nuestros circuitos y visualizar resultados\n",
        "from qiskit import Aer, execute, transpile, assemble, execute\n",
        "#from qiskit.visualization import visualize_transition, plot_bloch_vector, plot_state_qsphere, plot_bloch_multivector\n",
        "from qiskit.visualization import *\n",
        "\n",
        "import warnings  #Usaremos esta librería para omitir los warnings generados\n",
        "warnings.filterwarnings(\"ignore\")\n",
        "\n",
        "from numpy.random import randint # Generador de números aleatorios clásico\n",
        "import numpy as np\n",
        "from math import sqrt, pi\n",
        "\n",
        "print(\"\\n\\n ---> LIBRERIAS IMPORTADAS EXITOSAMENTE <---\")"
      ]
    },
    {
      "cell_type": "code",
      "execution_count": null,
      "metadata": {
        "id": "_Jt1yRwsUjH3"
      },
      "outputs": [],
      "source": [
        "#CREAMOS NUESTRO PRIMER CIRCUITO CUÁNTICO DEL ESTADO |0>\n",
        "\n",
        "qc0 = QuantumCircuit(1) #Creación de un circuito cuántico de 1 qubit\n",
        "\n",
        "initial_state = [1,0]   # Definimos su estado inicial como |0>\n",
        "qc0.initialize(initial_state, 0) #Aplicamos la inicializacion de estado en nuestro único qubit \n",
        "qc0.draw()  # Visualizamos nuestro circuito\n"
      ]
    },
    {
      "cell_type": "code",
      "execution_count": null,
      "metadata": {
        "id": "yvMxh_nVVYDy"
      },
      "outputs": [],
      "source": [
        "#SIMULAMOS SU COMPORTAMIENTO Y CREAMOS SU MEDICIÓN\n",
        "\n",
        "sim = Aer.get_backend('aer_simulator')  # Indicamos el tipo de simulador para el circuito\n",
        "qc0.save_statevector()   # Le decimos al simulador que guarde el vector de estadp\n",
        "qobj0 = assemble(qc0)     # Creaqos un Qobj del circuito para el simulador\n",
        "result = sim.run(qobj0).result() # Simulamos y retornamos el resultado\n",
        "\n",
        "out_state0 = result.get_statevector()\n",
        "print(out_state0) # Imprimos el resulyado y la medición\n",
        "\n",
        "qc0.measure_all()\n",
        "qc0.draw()\n"
      ]
    },
    {
      "cell_type": "code",
      "execution_count": null,
      "metadata": {
        "id": "8jM06U0UY9tF"
      },
      "outputs": [],
      "source": [
        "#OBTEMOS LA PROBABILIDAD DEL ESTADO\n",
        "\n",
        "counts = result.get_counts()\n",
        "plot_histogram(counts)"
      ]
    },
    {
      "cell_type": "code",
      "execution_count": null,
      "metadata": {
        "id": "YOraNpCNd9bT"
      },
      "outputs": [],
      "source": [
        "#REPRESENTACIÓN DE LA ESFERA DE BLOCH DEL ESTADO |0>\n",
        "\n",
        "#plot_state_qsphere(out_state0, show_state_phases = True, use_degrees = True)\n",
        "plot_bloch_multivector(out_state0, title='Esfera de Bloch del Estado |1>', reverse_bits=True)"
      ]
    },
    {
      "cell_type": "code",
      "execution_count": null,
      "metadata": {
        "id": "7wOL9f8GZhYc"
      },
      "outputs": [],
      "source": [
        "#CREAMOS NUESTRO SEGUNDO CIRCUITO CUÁNTICO CON EL ESTADO |1>\n",
        "\n",
        "qc1 = QuantumCircuit(1) #Creación de un circuito cuántico de 1 qubit\n",
        "\n",
        "#¿Cómo sería el estado inicial?\n",
        "initial_state = [0,1]   # Definimos su estado inicial como |1>\n",
        "\n",
        "qc1.initialize(initial_state, 0) #Aplicamos la inicializacion de estado en nuestro único qubit \n",
        "sim = Aer.get_backend('aer_simulator')  # Indicamos el tipo de simulador para el circuito\n",
        "qc1.save_statevector()   # Le decimos al simulador que guarde el vector de estadp\n",
        "qobj1 = assemble(qc1)     # Creaqos un Qobj del circuito para el simulador\n",
        "result = sim.run(qobj1).result() # Simulamos y retornamos el resultado\n",
        "out_state1 = result.get_statevector()\n",
        "print(out_state1) # Imprimos el resultado y la medición\n",
        "qc1.measure_all()\n",
        "counts = result.get_counts()\n",
        "plot_histogram(counts)\n"
      ]
    },
    {
      "cell_type": "code",
      "source": [
        "#REPRESENTACIÓN DE LA ESFERA DE BLOCH DEL ESTADO |1>\n",
        "\n",
        "#plot_state_qsphere(out_state1, show_state_phases = True, use_degrees = True)\n",
        "plot_bloch_multivector(out_state1, title='Esfera de Bloch del Estado |1>', reverse_bits=True)"
      ],
      "metadata": {
        "id": "aVRxJTih6Sbu"
      },
      "execution_count": null,
      "outputs": []
    },
    {
      "cell_type": "code",
      "execution_count": null,
      "metadata": {
        "id": "vDSqqBJwaxR7"
      },
      "outputs": [],
      "source": [
        "#CREAMOS NUESTRO TERCER CIRCUITO CUÁNTICO CON UN ESTADO DE SUPERPOSICIÓN\n",
        "\n",
        "qcS = QuantumCircuit(1) #Creación de un circuito cuántico de 1 qubit\n",
        "\n",
        "initial_state = [1/sqrt(2), 1/sqrt(2)]    # Definimos su estado inicial\n",
        "qcS.initialize(initial_state, 0) #Aplicamos la inicializacion de estado en nuestro único qubit \n",
        "qcS.draw()  # Visualizamos nuestro circuito"
      ]
    },
    {
      "cell_type": "code",
      "execution_count": null,
      "metadata": {
        "id": "mlJi9WGpbMMo"
      },
      "outputs": [],
      "source": [
        "#SIMULAMOS SU COMPORTAMIENTO Y CREAMOS SU MEDICIÓN\n",
        "\n",
        "sim = Aer.get_backend('aer_simulator')  # Indicamos el tipo de simulador para el circuito\n",
        "qcS.save_statevector()   # Le decimos al simulador que guarde el vector de estadp\n",
        "qobjS = assemble(qcS)     # Creaqos un Qobj del circuito para el simulador\n",
        "result = sim.run(qobjS).result() # Simulamos y retornamos el resultado\n",
        "\n",
        "out_stateS = result.get_statevector()\n",
        "print(out_stateS) # Imprimos el resulyado y la medición\n",
        "\n",
        "qcS.measure_all()\n",
        "qcS.draw()\n"
      ]
    },
    {
      "cell_type": "code",
      "execution_count": null,
      "metadata": {
        "id": "IyR8423fcPpk"
      },
      "outputs": [],
      "source": [
        "#OBTEMOS LA PROBABILIDAD DEL ESTADO\n",
        "\n",
        "counts = result.get_counts()\n",
        "plot_histogram(counts)"
      ]
    },
    {
      "cell_type": "code",
      "source": [
        "#REPRESENTACIÓN DE LA ESFERA DE BLOCH DEL ESTADO EN SUPERPOSICIÓN\n",
        "\n",
        "#plot_state_qsphere(out_stateS, show_state_phases = True, use_degrees = True)\n",
        "plot_bloch_multivector(out_stateS, title='Esfera de Bloch del Estado en Superposición', reverse_bits=True)"
      ],
      "metadata": {
        "id": "9fknHusD-Rvy"
      },
      "execution_count": null,
      "outputs": []
    },
    {
      "cell_type": "markdown",
      "source": [
        "**Reto**:\n",
        "\n",
        "Pongamos en práctica tu visualización de superposición y representa de forma correcta las siguientes propabilidades de encontrar los qubits como se indican:\n",
        "\n",
        "1.   10% en el estado $| 0 \\rangle$ y 90% en el estado $| 1 \\rangle$ \n",
        "2.   40% en el estado $| 0 \\rangle$  y 60% en el estado $| 1 \\rangle$\n",
        "3.   80% en el estado $| 0 \\rangle$  y 20% en el estado $| 1 \\rangle$\n",
        "\n"
      ],
      "metadata": {
        "id": "ZLJGeMd1-8f3"
      }
    },
    {
      "cell_type": "code",
      "source": [
        "#Definimos las probabilidades para cada estado:\n",
        "\n",
        "while True:\n",
        "  state0 = float(input(\"Ingrese probabilidad de |0>: \"))\n",
        "  state1 = float(input(\"Ingrese probabilidad de |1>: \"))\n",
        "  if (state0 + state1) == 100: #Sino está normalizado, reingresar\n",
        "    break\n",
        "  else:\n",
        "    print(\"Estado no normalizado, intente de nuevo \\n\")\n",
        "\n",
        "#Se definen los coeficientes del estado\n",
        "a_State0 = sqrt(state0/100.0) \n",
        "b_State1 = sqrt(state1/100.0)\n",
        "\n",
        "qcReto = QuantumCircuit(1) #Creación de un circuito cuántico de 1 qubit\n",
        "initial_state = [a_State0, b_State1]    # Definimos su estado inicial\n",
        "qcReto.initialize(initial_state, 0) #Aplicamos la inicializacion de estado en nuestro único qubit \n",
        "qcReto.draw() \n"
      ],
      "metadata": {
        "id": "stxE48QWG1Kg"
      },
      "execution_count": null,
      "outputs": []
    },
    {
      "cell_type": "code",
      "source": [
        "#SIMULAMOS SU COMPORTAMIENTO Y CREAMOS SU MEDICIÓN\n",
        "\n",
        "sim = Aer.get_backend('aer_simulator')  # Indicamos el tipo de simulador para el circuito\n",
        "qcReto.save_statevector()   # Le decimos al simulador que guarde el vector de estadp\n",
        "qobjReto = assemble(qcReto)     # Creaqos un Qobj del circuito para el simulador\n",
        "result = sim.run(qobjReto).result() # Simulamos y retornamos el resultado\n",
        "\n",
        "out_stateReto = result.get_statevector()\n",
        "print(out_stateReto) # Imprimos el resultado y la medición\n",
        "\n",
        "qcReto.measure_all()\n",
        "qcReto.draw()"
      ],
      "metadata": {
        "id": "L4iJO3jOJDUR"
      },
      "execution_count": null,
      "outputs": []
    },
    {
      "cell_type": "code",
      "source": [
        "#OBTEMOS LA PROBABILIDAD DEL ESTADO\n",
        "\n",
        "counts = result.get_counts()\n",
        "plot_histogram(counts)"
      ],
      "metadata": {
        "id": "zL3F0G13JhvZ"
      },
      "execution_count": null,
      "outputs": []
    },
    {
      "cell_type": "code",
      "source": [
        "#REPRESENTACIÓN DE LA ESFERA DE BLOCH DEL ESTADO EN SUPERPOSICIÓN\n",
        "\n",
        "#plot_state_qsphere(out_stateS, show_state_phases = True, use_degrees = True)\n",
        "plot_bloch_multivector(out_stateReto, title='Esfera de Bloch del Estado del Reto', reverse_bits=True)"
      ],
      "metadata": {
        "id": "7Nri8l9nJqlh"
      },
      "execution_count": null,
      "outputs": []
    },
    {
      "cell_type": "markdown",
      "source": [
        "## Manipulando al Qubit"
      ],
      "metadata": {
        "id": "OgqZ0Y8oL4i3"
      }
    },
    {
      "cell_type": "markdown",
      "source": [
        "### Compuerta X\n",
        "\n",
        "Permite una rotación de 180° (lo contrario a lo que se tiene a la entrada)\n",
        "\n"
      ],
      "metadata": {
        "id": "mFbxHm9XQuOh"
      }
    },
    {
      "cell_type": "code",
      "source": [
        "# HACIENDO USO DE LA COMPUERTA X\n",
        "\n",
        "qc_X1 = QuantumCircuit(1) #Creamos un circuito de 1 solo qubit. Por defecto, siempre se inicializa en |0>\n",
        "\n",
        "qc_X1.x(0)  #Aplicamos  la compuerta X al único qubit del circuito. Index = 0\n",
        "\n",
        "visualize_transition(qc_X1, trace=True, fpg=10) #Visualizamos la transición.\n",
        "#Si se quiere ver la trayectoria, trace=True. De lo contrario, False\n",
        "#Para reducir tamaño de simulación se puede modificar la resolución de la trayectoria: fpg = 5 - 30"
      ],
      "metadata": {
        "id": "O-awDtd8Q4Or"
      },
      "execution_count": null,
      "outputs": []
    },
    {
      "cell_type": "code",
      "source": [
        "# HACIENDO USO DE LA COMPUERTA X\n",
        "\n",
        "qc_X1.x(0)  #Aplicamos  la compuerta X al único qubit del circuito. Index = 0\n",
        "qc_X1.x(0)  #Nuevamente aplicamos  la compuerta X al único qubit del circuito. Index = 0\n",
        "\n",
        "visualize_transition(qc_X1, trace=True, fpg=10) #Visualizamos la transición.\n",
        "#Si se quiere ver la trayectoria, trace=True. De lo contrario, False\n",
        "#Para reducir tamaño de simulación se puede modificar la resolución de la trayectoria: fpg = 5 - 30"
      ],
      "metadata": {
        "id": "Lv3QiZiBSamV"
      },
      "execution_count": null,
      "outputs": []
    },
    {
      "cell_type": "markdown",
      "source": [
        "### Compuerta H\n",
        "\n",
        "Permite la superposición entre los estados $| 0 \\rangle$ y $| 1 \\rangle$"
      ],
      "metadata": {
        "id": "TdL-SmqeXeXd"
      }
    },
    {
      "cell_type": "code",
      "source": [
        "# HACIENDO USO DE LA COMPUERTA H\n",
        "\n",
        "qc_H1 = QuantumCircuit(1) #Creamos un circuito de 1 solo qubit. Por defecto, siempre se inicializa en |0>\n",
        "\n",
        "qc_H1.h(0)  #Aplicamos  la compuerta H al único qubit del circuito. Index = 0\n",
        "\n",
        "visualize_transition(qc_H1, trace=True, fpg=10) #Visualizamos la transición.\n",
        "#Si se quiere ver la trayectoria, trace=True. De lo contrario, False\n",
        "#Para reducir tamaño de simulación se puede modificar la resolución de la trayectoria: fpg = 5 - 30"
      ],
      "metadata": {
        "id": "Orz_IqkAXqbm"
      },
      "execution_count": null,
      "outputs": []
    },
    {
      "cell_type": "code",
      "source": [
        "# HACIENDO USO DE LA COMPUERTA H\n",
        "\n",
        "qc_H2 = QuantumCircuit(1) #Creamos un circuito de 1 solo qubit. Por defecto, siempre se inicializa en |0>\n",
        "\n",
        "qc_H2.x(0)  #Nos colocamos en el estado |1>\n",
        "qc_H2.h(0)  #Aplicamos  la compuerta H al único qubit del circuito. Index = 0\n",
        "\n",
        "visualize_transition(qc_H2, trace=True, fpg=10) #Visualizamos la transición.\n",
        "#Si se quiere ver la trayectoria, trace=True. De lo contrario, False\n",
        "#Para reducir tamaño de simulación se puede modificar la resolución de la trayectoria: fpg = 5 - 30"
      ],
      "metadata": {
        "id": "wQpFTYfsX5g-"
      },
      "execution_count": null,
      "outputs": []
    },
    {
      "cell_type": "markdown",
      "source": [
        "**Nota**\n",
        "\n",
        "Si se esta en $| + \\rangle$ ó $|- \\rangle$, no se puede aplicar una compuerta X a ellos para ir de uno a otro.\n",
        "\n",
        "Se tiene que regresar o posicionarse en $| 0 \\rangle$ ó $| 1 \\rangle$ y aplicar la compuerta H para ir a $| + \\rangle$ ó $|- \\rangle$"
      ],
      "metadata": {
        "id": "9A5dexbJYknF"
      }
    },
    {
      "cell_type": "code",
      "source": [
        "# HACIENDO USO DE LA COMPUERTA H\n",
        "\n",
        "qc_H3 = QuantumCircuit(1) #Creamos un circuito de 1 solo qubit. Por defecto, siempre se inicializa en |0>\n",
        "\n",
        "\n",
        "qc_H3.h(0)  #Aplicamos  la compuerta H al único qubit del circuito. Index = 0\n",
        "qc_H3.x(0)  #¿Qué pasará?\n",
        "\n",
        "visualize_transition(qc_H3, trace=True, fpg=10) #Visualizamos la transición.\n",
        "#Si se quiere ver la trayectoria, trace=True. De lo contrario, False\n",
        "#Para reducir tamaño de simulación se puede modificar la resolución de la trayectoria: fpg = 5 - 30"
      ],
      "metadata": {
        "id": "etvWRBYwZzYQ"
      },
      "execution_count": null,
      "outputs": []
    },
    {
      "cell_type": "code",
      "source": [
        "# HACIENDO USO DE LA COMPUERTA H\n",
        "\n",
        "qc_H3 = QuantumCircuit(1) #Creamos un circuito de 1 solo qubit. Por defecto, siempre se inicializa en |0>\n",
        "\n",
        "qc_H3.x(0)  #Nos colocamos en el estado |1>\n",
        "qc_H3.h(0)  #Aplicamos  la compuerta H al único qubit del circuito. Index = 0\n",
        "qc_H3.x(0)  #¿Qué pasará?\n",
        "\n",
        "visualize_transition(qc_H3, trace=True, fpg=10) #Visualizamos la transición.\n",
        "#Si se quiere ver la trayectoria, trace=True. De lo contrario, False\n",
        "#Para reducir tamaño de simulación se puede modificar la resolución de la trayectoria: fpg = 5 - 30"
      ],
      "metadata": {
        "id": "elMWLbiLam5G"
      },
      "execution_count": null,
      "outputs": []
    },
    {
      "cell_type": "markdown",
      "source": [
        "Esta compuerta de Hadamard nos permite tener una probabilidad del 50%, 50% para que el estado colapse en el estado $| 0 \\rangle$ ó $| 1 \\rangle$, esto es prácticamente un volado.\n",
        "\n",
        "Para comprobarlo, realizaremos los siguientes experimentos."
      ],
      "metadata": {
        "id": "ABHCSI_awD2H"
      }
    },
    {
      "cell_type": "code",
      "source": [
        "# COMPROBANDO LA PROBABILIDAD DE LA COMPUERTA DE HADAMARD\n",
        "\n",
        "qcVolado = QuantumCircuit(1,1) #Se crear un circuito con 1 qubit y 1 bit clásico\n",
        "\n",
        "qcVolado.h(0) #Aplicamos la compuerta H al qubit\n",
        "\n",
        "qcVolado.measure(0,0) #Medimos el qubit y lo guardamos en el bit\n",
        "\n",
        "qcVolado.draw()   #Dibujamos el circuito"
      ],
      "metadata": {
        "id": "Xewt6JEAwnQ3"
      },
      "execution_count": null,
      "outputs": []
    },
    {
      "cell_type": "code",
      "source": [
        "# Simularemos usando QASM\n",
        "backend = Aer.get_backend('qasm_simulator')\n",
        "job = execute(qcVolado, backend = backend, shots = 1024)  # Aseguremonos que el nombre del circuito coincida. \n",
        "                                                          # 1024 repeticiones del experimento\n",
        "result = job.result()\n",
        "counts = result.get_counts()\n",
        "plot_histogram(counts)"
      ],
      "metadata": {
        "id": "tbXMFhmryFGj"
      },
      "execution_count": null,
      "outputs": []
    },
    {
      "cell_type": "markdown",
      "source": [
        "### **Volado Cuántico**\n",
        "\n",
        "Corre la celda de abajo para jugar el volado donde la computadora te permitira usar las propiedades cuánticas que hemos abordado hasta el momento."
      ],
      "metadata": {
        "id": "0cQIL_L_zDfa"
      }
    },
    {
      "cell_type": "code",
      "source": [
        "from qiskit.tools.jupyter import *\n",
        "from qiskit.visualization import *\n",
        "import qiskit.tools.jupyter \n",
        "import ipywidgets as widgets\n",
        "\n",
        "print(\"Bienvenido al Volado Cuántico. La moneda empieza en SOL, la cuál corresponde al estado |0>.\")\n",
        "print(\"Estarás jugando contra la Computadora Cuántica.\")\n",
        "print(\"Elige el lado de la moneda\")\n",
        "\n",
        "# Layout\n",
        "button = widgets.Button(\n",
        "    description='¡Juguemos!')\n",
        "player2_move = widgets.Dropdown(\n",
        "    options=[('Jugar con SOL', 'SOL'), ('Jugar con AGUILA', 'AGUILA')],\n",
        "    description='Elección: ',\n",
        "    disabled=False,\n",
        ")\n",
        "out = widgets.Output()\n",
        "\n",
        "def on_button_clicked(b):\n",
        "    with out:\n",
        " #--------------------------------------------El código del Volado----------------------------------------------------------#       \n",
        "        # Iniciamos el circuito\n",
        "        qc = QuantumCircuit(1, 1)\n",
        "        \n",
        "        # Ejecución del  Volado\n",
        "        if player2_move.value == 'SOL':\n",
        "            qc.h(0)\n",
        "            print('Elegiste SOL')\n",
        "        if player2_move.value == 'AGUILA':\n",
        "            qc.x(0)\n",
        "            qc.h(0)\n",
        "            print('Elegiste AGUILA')\n",
        "        \n",
        "        # Medición  \n",
        "        qc.measure(0,0)\n",
        "        \n",
        "        # Simulador QASM\n",
        "        backend= Aer.get_backend('qasm_simulator')\n",
        "        job = execute(qc, backend, shots=1)\n",
        "        result = job.result()\n",
        "        counts = result.get_counts()\n",
        "\n",
        "        # Resultado\n",
        "        if '0' in counts:\n",
        "            print(\"Has perdido :( . La Computadora Cuántica Ganó. Intenta de nuevo \")\n",
        "        if '1' in counts:\n",
        "            print(\"Has ganado :D . ¡Excelente!\")\n",
        "            \n",
        "        print(\"\\n\")\n",
        " #--------------------------------------------Termina el código del juego----------------------------------------------------------# \n",
        "button.on_click(on_button_clicked)\n",
        "widgets.VBox([player2_move, button, out])"
      ],
      "metadata": {
        "id": "AxCVjnd7zX1g"
      },
      "execution_count": null,
      "outputs": []
    },
    {
      "cell_type": "markdown",
      "source": [
        "### Compuerta Z\n",
        "\n",
        "Permite una rotación de 180° sobre el eje Z, también reflejado como un cambio de fase."
      ],
      "metadata": {
        "id": "42-Gizro833h"
      }
    },
    {
      "cell_type": "code",
      "source": [
        "# HACIENDO USO DE LA COMPUERTA Z\n",
        "\n",
        "qc_Z1 = QuantumCircuit(1) #Creamos un circuito de 1 solo qubit. Por defecto, siempre se inicializa en |0>\n",
        "\n",
        "qc_Z1.z(0)  #Nos colocamos en el estado |0> y aplicamos Z\n",
        "\n",
        "visualize_transition(qc_Z1, trace=True, fpg=10) #Visualizamos la transición.\n",
        "#Si se quiere ver la trayectoria, trace=True. De lo contrario, False\n",
        "#Para reducir tamaño de simulación se puede modificar la resolución de la trayectoria: fpg = 5 - 30"
      ],
      "metadata": {
        "id": "Zjn9eEwL9A9e"
      },
      "execution_count": null,
      "outputs": []
    },
    {
      "cell_type": "code",
      "source": [
        "# HACIENDO USO DE LA COMPUERTA Z\n",
        "\n",
        "qc_Z2 = QuantumCircuit(1) #Creamos un circuito de 1 solo qubit. Por defecto, siempre se inicializa en |0>\n",
        "\n",
        "qc_Z2.x(0)  #Nos colocamos en el estado |1> \n",
        "qc_Z2.z(0)  # y aplicamos Z\n",
        "\n",
        "visualize_transition(qc_Z2, trace=True, fpg=10) #Visualizamos la transición.\n",
        "#Si se quiere ver la trayectoria, trace=True. De lo contrario, False\n",
        "#Para reducir tamaño de simulación se puede modificar la resolución de la trayectoria: fpg = 5 - 30"
      ],
      "metadata": {
        "id": "QVEP4QDI9eFp"
      },
      "execution_count": null,
      "outputs": []
    },
    {
      "cell_type": "code",
      "source": [
        "# HACIENDO USO DE LA COMPUERTA Z\n",
        "\n",
        "qc_Z3 = QuantumCircuit(1) #Creamos un circuito de 1 solo qubit. Por defecto, siempre se inicializa en |0>\n",
        "\n",
        "qc_Z3.h(0)  #Nos colocamos en el estado |+> \n",
        "qc_Z3.z(0)  # y aplicamos Z\n",
        "\n",
        "visualize_transition(qc_Z3, trace=True, fpg=10) #Visualizamos la transición.\n",
        "#Si se quiere ver la trayectoria, trace=True. De lo contrario, False\n",
        "#Para reducir tamaño de simulación se puede modificar la resolución de la trayectoria: fpg = 5 - 30"
      ],
      "metadata": {
        "id": "KN5ZdbE990Ry"
      },
      "execution_count": null,
      "outputs": []
    },
    {
      "cell_type": "code",
      "source": [
        "# HACIENDO USO DE LA COMPUERTA Z\n",
        "\n",
        "qc_Z4 = QuantumCircuit(1) #Creamos un circuito de 1 solo qubit. Por defecto, siempre se inicializa en |0>\n",
        "\n",
        "qc_Z4.h(0)  #Nos colocamos en el estado |+> \n",
        "qc_Z4.z(0)  # aplicamos Z\n",
        "qc_Z4.z(0)  # y aplicamos Z nuevamente\n",
        "\n",
        "visualize_transition(qc_Z4, trace=True, fpg=10) #Visualizamos la transición.\n",
        "#Si se quiere ver la trayectoria, trace=True. De lo contrario, False\n",
        "#Para reducir tamaño de simulación se puede modificar la resolución de la trayectoria: fpg = 5 - 30"
      ],
      "metadata": {
        "id": "5UyykIqP-FFs"
      },
      "execution_count": null,
      "outputs": []
    },
    {
      "cell_type": "markdown",
      "source": [
        "**Reto**\n",
        "\n",
        "¿Cómo llegamos al estado $| 1 \\rangle$ sin ocupar compuertas X?"
      ],
      "metadata": {
        "id": "XoPS2mEA-VFB"
      }
    },
    {
      "cell_type": "code",
      "source": [
        "# HACIENDO USO DE LA COMPUERTA H y Z\n",
        "\n",
        "qc_Z5 = QuantumCircuit(1) #Creamos un circuito de 1 solo qubit. Por defecto, siempre se inicializa en |0>\n",
        "\n",
        "qc_Z5.h(0)  #Nos colocamos en el estado |+> \n",
        "qc_Z5.z(0)  # aplicamos Z\n",
        "qc_Z5.h(0)  # y aplicamos h nuevamente\n",
        "\n",
        "visualize_transition(qc_Z5, trace=True, fpg=10) #Visualizamos la transición.\n",
        "#Si se quiere ver la trayectoria, trace=True. De lo contrario, False\n",
        "#Para reducir tamaño de simulación se puede modificar la resolución de la trayectoria: fpg = 5 - 30"
      ],
      "metadata": {
        "id": "JW0izTF9-mnU"
      },
      "execution_count": null,
      "outputs": []
    },
    {
      "cell_type": "markdown",
      "source": [
        "## Circuitos Cuánticos\n",
        "\n",
        "Se trata de una mezcla de elementos en acción, como:\n",
        "\n",
        "*   Qubits\n",
        "*   Compuertas\n",
        "*   Mediciones\n",
        "*   Bits Clásicos\n",
        "\n"
      ],
      "metadata": {
        "id": "UC1VYEeoHUEJ"
      }
    },
    {
      "cell_type": "code",
      "source": [
        "# ANALIZANDO UN CIRCUITO SENCILLO DE 2 QUBITS\n",
        "\n",
        "qcM1 = QuantumCircuit(2, 2) \n",
        "qcM1.measure([0,1],[0,1])\n",
        "qcM1.draw()"
      ],
      "metadata": {
        "id": "81pkgruXHnlu"
      },
      "execution_count": null,
      "outputs": []
    },
    {
      "cell_type": "code",
      "source": [
        "#MEDIMOS LA PROBABILIDAD\n",
        "backend = Aer.get_backend('qasm_simulator')\n",
        "job = execute(qcM1, backend = backend, shots = 1024) \n",
        "result = job.result()\n",
        "counts = result.get_counts()\n",
        "plot_histogram(counts)"
      ],
      "metadata": {
        "id": "nDlsloHAH8mc"
      },
      "execution_count": null,
      "outputs": []
    },
    {
      "cell_type": "code",
      "source": [
        "#ANALICEMOS UN CIRCUITO CON UNA DISTRIBUCIÓN DE PROBABILIDAD DEL 25%\n",
        "\n",
        "qcM2 = QuantumCircuit(2,2)\n",
        "qcM2.x(0)\n",
        "qcM2.h(0)\n",
        "qcM2.h(1)\n",
        "qcM2.measure([0,1],[0,1])\n",
        "qcM2.draw()"
      ],
      "metadata": {
        "id": "kds9oKtmIJ52"
      },
      "execution_count": null,
      "outputs": []
    },
    {
      "cell_type": "code",
      "source": [
        "#MEDIMOS LA PROBABILIDAD\n",
        "backend = Aer.get_backend('qasm_simulator')\n",
        "job = execute(qcM2, backend = backend, shots = 1024) \n",
        "result = job.result()\n",
        "counts = result.get_counts()\n",
        "plot_histogram(counts)"
      ],
      "metadata": {
        "id": "cwsmYGnUIwz0"
      },
      "execution_count": null,
      "outputs": []
    },
    {
      "cell_type": "code",
      "source": [
        "#GENEREMOS UN CIRCUITO CUÁNTICO DE MÁS QUBITS\n",
        "\n",
        "qcM3 = QuantumCircuit(4,4) \n",
        "\n",
        "for qubit in range(4):    #A cada qubit le aplicamos las siguientes compuertas\n",
        "    qcM3.x(qubit)\n",
        "    qcM3.h(qubit)\n",
        "\n",
        "qcM3.measure([0, 1, 2, 3], [0, 1, 2, 3])\n",
        "\n",
        "qcM3.draw()"
      ],
      "metadata": {
        "id": "kQomz0hXMIDz"
      },
      "execution_count": null,
      "outputs": []
    },
    {
      "cell_type": "code",
      "source": [
        "#MEDIMOS LA PROBABILIDAD\n",
        "backend = Aer.get_backend('qasm_simulator')\n",
        "job = execute(qcM3, backend = backend, shots = 1024) \n",
        "result = job.result()\n",
        "counts = result.get_counts()\n",
        "plot_histogram(counts)"
      ],
      "metadata": {
        "id": "At17gJA7Mzm0"
      },
      "execution_count": null,
      "outputs": []
    },
    {
      "cell_type": "markdown",
      "source": [
        "### COMPUERTA CX\n",
        "\n",
        "Esta es una compuerta multiqubit que funciona con un qubit de control y otro de destino."
      ],
      "metadata": {
        "id": "6tZIphvDI7ha"
      }
    },
    {
      "cell_type": "code",
      "source": [
        "#EXPERIMENTANDO CON LA COMPUERTA CX\n",
        "\n",
        "qcCX1 = QuantumCircuit(2, 2)\n",
        "\n",
        "# Aplicamos CX a qubits 0 y 1, donde se mantendrá inactiva hasta que no cambie de estado el qubit 0\n",
        "qcCX1.cx(0,1)\n",
        "qcCX1.measure([0, 1], [0, 1])\n",
        "qcCX1.draw()"
      ],
      "metadata": {
        "id": "0bvK34KzJLc7"
      },
      "execution_count": null,
      "outputs": []
    },
    {
      "cell_type": "code",
      "source": [
        "#MEDIMOS LA PROBABILIDAD\n",
        "backend = Aer.get_backend('qasm_simulator')\n",
        "job = execute(qcCX1, backend = backend, shots = 1024) \n",
        "result = job.result()\n",
        "counts = result.get_counts()\n",
        "plot_histogram(counts)"
      ],
      "metadata": {
        "id": "S1WMqIrMJgvm"
      },
      "execution_count": null,
      "outputs": []
    },
    {
      "cell_type": "code",
      "source": [
        "#EXPERIMENTANDO CON LA COMPUERTA CX\n",
        "\n",
        "qcCX2 = QuantumCircuit(2, 2)\n",
        "\n",
        "# Aplicamos CX a qubits 0 y 1, donde se mantendrá inactiva hasta que no cambie de estado el qubit 0\n",
        "qcCX2.x(0)\n",
        "qcCX2.cx(0,1)\n",
        "qcCX2.measure([0, 1], [0, 1])\n",
        "qcCX2.draw()"
      ],
      "metadata": {
        "id": "56uo3Bh_JuRf"
      },
      "execution_count": null,
      "outputs": []
    },
    {
      "cell_type": "code",
      "source": [
        "#MEDIMOS LA PROBABILIDAD\n",
        "backend = Aer.get_backend('qasm_simulator')\n",
        "job = execute(qcCX2, backend = backend, shots = 1024) \n",
        "result = job.result()\n",
        "counts = result.get_counts()\n",
        "plot_histogram(counts)"
      ],
      "metadata": {
        "id": "nCeBkbiFJ_G1"
      },
      "execution_count": null,
      "outputs": []
    },
    {
      "cell_type": "markdown",
      "source": [
        "## Creando Entrelazamiento"
      ],
      "metadata": {
        "id": "IocL5-HnKVFQ"
      }
    },
    {
      "cell_type": "code",
      "source": [
        "#PARA CREAR EL ENTRELAZAMIENTO ES NECESARIO LA SUPERPOSICIÓN Y CX\n",
        "\n",
        "qcE1 = QuantumCircuit(2,2)\n",
        "\n",
        "qcE1.h(0)       # Aplicamos la Superposición\n",
        "qcE1.cx(0,1)    # Utilizamos la compuertas CNOT\n",
        "\n",
        "qcE1.measure([0, 1], [0, 1])\n",
        "qcE1.draw()"
      ],
      "metadata": {
        "id": "kp4nxhMWKYas"
      },
      "execution_count": null,
      "outputs": []
    },
    {
      "cell_type": "code",
      "source": [
        "#MEDIMOS LA PROBABILIDAD\n",
        "backend = Aer.get_backend('qasm_simulator')\n",
        "job = execute(qcE1, backend = backend, shots = 1024) \n",
        "result = job.result()\n",
        "counts = result.get_counts()\n",
        "plot_histogram(counts)"
      ],
      "metadata": {
        "id": "GPlpl8boKztc"
      },
      "execution_count": null,
      "outputs": []
    },
    {
      "cell_type": "markdown",
      "source": [
        "¡FELICITACIONES, ACABAS DE CREAR TU PRIMER ENTRELAZAMIENTO!\n",
        "\n",
        "Toma en cuenta que puedes obtener resultados diferentes cada vez, por lo que hay superposición. Pero pase lo que pase, ambos qubits deben estar en el mismo estado. ¡La forma en que se produce esta relación es fundamentalmente mecánica cuántica!"
      ],
      "metadata": {
        "id": "NqZMXF4HLI8I"
      }
    },
    {
      "cell_type": "code",
      "source": [
        "#EXPERIMENTEMOS CON OTRO TIPO DE ENTRELAZAMIENTO\n",
        "\n",
        "qcE2 = QuantumCircuit(2,2)\n",
        "\n",
        "qcE2.h(0)     #Aplicamos Superposición\n",
        "qcE2.cx(0,1)  #Aplicamos CNOT\n",
        "qcE2.x(1)     #Aplicamos compuerta X en el qubit 1\n",
        "\n",
        "qcE2.measure([0, 1], [0, 1])\n",
        "qcE2.draw()"
      ],
      "metadata": {
        "id": "NFZBIkwwLWmB"
      },
      "execution_count": null,
      "outputs": []
    },
    {
      "cell_type": "code",
      "source": [
        "#MEDIMOS LA PROBABILIDAD\n",
        "backend = Aer.get_backend('qasm_simulator')\n",
        "job = execute(qcE2, backend = backend, shots = 1024) \n",
        "result = job.result()\n",
        "counts = result.get_counts()\n",
        "plot_histogram(counts)"
      ],
      "metadata": {
        "id": "_lDXsf_tLoP-"
      },
      "execution_count": null,
      "outputs": []
    },
    {
      "cell_type": "markdown",
      "source": [
        "Ahora, giramos el qubit 1 después de entrelazar los bits. Esto significa que los qubits siempre deben estar en desacuerdo entre sí. Este es otro ejemplo de entrelazamiento, donde los estados de ambos qubits dependen fundamentalmente uno del otro."
      ],
      "metadata": {
        "id": "o29yddrnLygj"
      }
    },
    {
      "cell_type": "markdown",
      "source": [
        "**Gracias por haber llegado hasta aquí**\n",
        "\n",
        "Espero y este taller te sirva para tu futuro académico y profesional"
      ],
      "metadata": {
        "id": "0rpzalOcOEGu"
      }
    }
  ],
  "metadata": {
    "colab": {
      "provenance": []
    },
    "kernelspec": {
      "display_name": "Python 3",
      "name": "python3"
    },
    "language_info": {
      "name": "python"
    }
  },
  "nbformat": 4,
  "nbformat_minor": 0
}